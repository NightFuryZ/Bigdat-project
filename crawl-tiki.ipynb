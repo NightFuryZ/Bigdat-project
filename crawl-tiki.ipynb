{
 "cells": [
  {
   "cell_type": "code",
   "execution_count": 1,
   "id": "fb7d869b",
   "metadata": {},
   "outputs": [],
   "source": [
    "import requests"
   ]
  },
  {
   "cell_type": "code",
   "execution_count": 2,
   "id": "1d61f36b",
   "metadata": {},
   "outputs": [],
   "source": [
    "import time"
   ]
  },
  {
   "cell_type": "code",
   "execution_count": 3,
   "id": "b2aa0694",
   "metadata": {},
   "outputs": [],
   "source": [
    "import csv"
   ]
  },
  {
   "cell_type": "code",
   "execution_count": 4,
   "id": "e38dbebf",
   "metadata": {},
   "outputs": [],
   "source": [
    "manfashion_page_url = \"https://tiki.vn/api/personalish/v1/blocks/listings?limit=48&include=advertisement&aggregations=2&trackity_id=848b6aab-1aff-2d7a-ac1b-7ed767d2788e&category=915&page={}&urlKey=thoi-trang-nam\""
   ]
  },
  {
   "cell_type": "code",
   "execution_count": 5,
   "id": "ce80ea32",
   "metadata": {},
   "outputs": [],
   "source": [
    "manfashion_product_url = \"https://tiki.vn/api/v2/products/{}\""
   ]
  },
  {
   "cell_type": "code",
   "execution_count": 6,
   "id": "680c80e4",
   "metadata": {},
   "outputs": [],
   "source": [
    "headers = {\"user-agent\": \"Mozilla/5.0 (Macintosh; Intel Mac OS X 11_1_0) AppleWebKit/537.36 (KHTML, like Gecko) Chrome/88.0.4324.96 Safari/537.36\"}"
   ]
  },
  {
   "cell_type": "code",
   "execution_count": 7,
   "id": "ab5e7c7d",
   "metadata": {},
   "outputs": [],
   "source": [
    "product_id_file = \"./product_id_file.txt\"\n",
    "product_data_file = \"./product_data_file.csv\""
   ]
  },
  {
   "cell_type": "code",
   "execution_count": 8,
   "id": "4aab82f7",
   "metadata": {},
   "outputs": [],
   "source": [
    "def getProductId():\n",
    "    productIds = []\n",
    "    i = 1;\n",
    "    while(True):\n",
    "        print(\"Page: \", i)\n",
    "        response = requests.get(manfashion_page.format(i), headers=headers)\n",
    "        \n",
    "        if(response.status_code == 200):\n",
    "            products = json.loads(response.text)['data']\n",
    "            if len(products) != 0:\n",
    "                for product in products:\n",
    "                    pid = str(product['id'])\n",
    "                    productIds.append(pid)\n",
    "            else:\n",
    "                break\n",
    "        i = i + 1\n",
    "        \n",
    "    return productIds, i    "
   ]
  },
  {
   "cell_type": "code",
   "execution_count": 9,
   "id": "a3082b23",
   "metadata": {},
   "outputs": [],
   "source": [
    "# productIds, i = getProductId()"
   ]
  },
  {
   "cell_type": "code",
   "execution_count": 10,
   "id": "8d65540e",
   "metadata": {},
   "outputs": [],
   "source": [
    "def saveProductIds(arrayId = []):\n",
    "    file = open(product_id_file, \"w+\")\n",
    "    str = \"\\n\".join(arrayId)\n",
    "    file.write(str)\n",
    "    file.close()"
   ]
  },
  {
   "cell_type": "code",
   "execution_count": 11,
   "id": "51834b69",
   "metadata": {},
   "outputs": [],
   "source": [
    "# saveProductIds(productIds)"
   ]
  },
  {
   "cell_type": "code",
   "execution_count": 12,
   "id": "f0e8dc55",
   "metadata": {},
   "outputs": [],
   "source": [
    "features = ['discount', 'discount_rate', 'name', 'original_price', 'price', 'rating_average','review_count' ]"
   ]
  },
  {
   "cell_type": "code",
   "execution_count": 13,
   "id": "b573f19d",
   "metadata": {},
   "outputs": [],
   "source": [
    "def getProductsInfo(arrayId = []):\n",
    "    products_info = []\n",
    "    start = 0\n",
    "    end = 100;\n",
    "    while start != 6000:\n",
    "        for id in arrayId[start:end]:\n",
    "            print(id)\n",
    "            response = requests.get(manfashion_product_url.format(id), headers=headers)\n",
    "            if(response.status_code == 200):\n",
    "                product = response.text\n",
    "                e = json.loads(product)\n",
    "                if not e.get(\"id\", False):\n",
    "                    continue;\n",
    "                new_e = {}\n",
    "                for f in features:\n",
    "                    if(f in e):\n",
    "                        new_e[f] = e[f]\n",
    "                    else:\n",
    "                        new_e[f] = \"\"\n",
    "                if('quantity_sold' in e):\n",
    "                    if(len(e['quantity_sold']) > 0):\n",
    "                        new_e['quantity_sold'] = e['quantity_sold']['value']\n",
    "                else:\n",
    "                    new_e['quantity_sold'] = ''\n",
    "                products_info.append(new_e)\n",
    "            time.sleep(3)\n",
    "        start = end;\n",
    "        end = end + 100;\n",
    "    return products_info      "
   ]
  },
  {
   "cell_type": "code",
   "execution_count": 14,
   "id": "e3438134",
   "metadata": {},
   "outputs": [],
   "source": [
    "# ps = getProductsInfo(productIds)"
   ]
  },
  {
   "cell_type": "code",
   "execution_count": 15,
   "id": "7ec3f6ed",
   "metadata": {},
   "outputs": [],
   "source": [
    "# ps[0]"
   ]
  },
  {
   "cell_type": "code",
   "execution_count": 16,
   "id": "5daa2de2",
   "metadata": {},
   "outputs": [],
   "source": [
    "s1 = u'ÀÁÂÃÈÉÊÌÍÒÓÔÕÙÚÝàáâãèéêìíòóôõùúýĂăĐđĨĩŨũƠơƯưẠạẢảẤấẦầẨẩẪẫẬậẮắẰằẲẳẴẵẶặẸẹẺẻẼẽẾếỀềỂểỄễỆệỈỉỊịỌọỎỏỐốỒồỔổỖỗỘộỚớỜờỞởỠỡỢợỤụỦủỨứỪừỬửỮữỰựỲỳỴỵỶỷỸỹ'\n",
    "s0 = u'AAAAEEEIIOOOOUUYaaaaeeeiioooouuyAaDdIiUuOoUuAaAaAaAaAaAaAaAaAaAaAaAaEeEeEeEeEeEeEeEeIiIiOoOoOoOoOoOoOoOoOoOoOoOoUuUuUuUuUuUuUuYyYyYyYy'\n",
    "def remove_accents(input_str):\n",
    "    s = ''\n",
    "    for c in input_str:\n",
    "        if c in s1:\n",
    "            s += s0[s1.index(c)]\n",
    "        else:\n",
    "            s += c\n",
    "    return s"
   ]
  },
  {
   "cell_type": "code",
   "execution_count": 17,
   "id": "43f315c0",
   "metadata": {},
   "outputs": [],
   "source": [
    "def saveProductsData(products=[]):\n",
    "    file = open(product_data_file, \"w\", encoding=\"utf-8\", newline='')\n",
    "    csv_writer = csv.writer(file)\n",
    "    count = 0\n",
    "    for product in products:\n",
    "        if product is not None:\n",
    "            if count == 0:\n",
    "                csv_headers = product.keys()\n",
    "                csv_writer.writerow(csv_headers)\n",
    "                count += 1\n",
    "            p = product\n",
    "            p['name'] = remove_accents(p['name'])\n",
    "            csv_writer.writerow(p.values())\n",
    "    file.close()"
   ]
  },
  {
   "cell_type": "code",
   "execution_count": 18,
   "id": "65dcd8b9",
   "metadata": {},
   "outputs": [],
   "source": [
    "# saveProductsData(ps)"
   ]
  },
  {
   "cell_type": "code",
   "execution_count": 19,
   "id": "4a3fcc14",
   "metadata": {},
   "outputs": [],
   "source": [
    "productid_csv_file = \"./product_id_file.csv\"\n",
    "file = open(product_id_file, \"r\")\n",
    "filecsv = open(productid_csv_file, \"w\", encoding=\"utf-8\", newline='')\n",
    "csv_writer = csv.writer(filecsv)\n",
    "csv_writer.writerow([\"productid\"])\n",
    "for pid in file.readlines():\n",
    "    pid = pid.replace(\"\\n\", \"\")\n",
    "    csv_writer.writerow([pid])\n",
    "file.close()\n",
    "filecsv.close()"
   ]
  }
 ],
 "metadata": {
  "kernelspec": {
   "display_name": "Python 3 (ipykernel)",
   "language": "python",
   "name": "python3"
  },
  "language_info": {
   "codemirror_mode": {
    "name": "ipython",
    "version": 3
   },
   "file_extension": ".py",
   "mimetype": "text/x-python",
   "name": "python",
   "nbconvert_exporter": "python",
   "pygments_lexer": "ipython3",
   "version": "3.9.5"
  }
 },
 "nbformat": 4,
 "nbformat_minor": 5
}
