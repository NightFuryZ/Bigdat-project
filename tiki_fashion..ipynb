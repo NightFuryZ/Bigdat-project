﻿{
  "metadata": {
    "name": "tiki_fashion",
    "kernelspec": {
      "language": "scala",
      "name": "spark2-scala"
    },
    "language_info": {
      "codemirror_mode": "text/x-scala",
      "file_extension": ".scala",
      "mimetype": "text/x-scala",
      "name": "scala",
      "pygments_lexer": "scala"
    }
  },
  "nbformat": 4,
  "nbformat_minor": 2,
  "cells": [
    {
      "cell_type": "code",
      "execution_count": 0,
      "metadata": {
        "autoscroll": "auto"
      },
      "outputs": [],
      "source": "import org.apache.spark.sql.hive.HiveContext"
    },
    {
      "cell_type": "code",
      "execution_count": 1,
      "metadata": {
        "autoscroll": "auto"
      },
      "outputs": [],
      "source": "val sqlContext \u003d new HiveContext(sc)"
    },
    {
      "cell_type": "code",
      "execution_count": 2,
      "metadata": {
        "autoscroll": "auto"
      },
      "outputs": [],
      "source": "import sqlContext.implicits._"
    },
    {
      "cell_type": "code",
      "execution_count": 3,
      "metadata": {
        "autoscroll": "auto"
      },
      "outputs": [],
      "source": "val filedata \u003d sqlContext\n        .read\n        .csv(\"hdfs://node-master:9000/project/tiki/product_data_file.csv\")"
    },
    {
      "cell_type": "code",
      "execution_count": 4,
      "metadata": {
        "autoscroll": "auto"
      },
      "outputs": [],
      "source": "filedata.show(3)"
    },
    {
      "cell_type": "code",
      "execution_count": 5,
      "metadata": {
        "autoscroll": "auto"
      },
      "outputs": [],
      "source": "val new_filedata \u003d filedata.withColumnRenamed(\"_c0\", \"discount\")\n    .withColumnRenamed(\"_c1\", \"discount_rate\")\n    .withColumnRenamed(\"_c2\", \"name\")\n    .withColumnRenamed(\"_c3\", \"original_price\")\n    .withColumnRenamed(\"_c4\", \"price\")\n    .withColumnRenamed(\"_c5\", \"rating_average\")\n    .withColumnRenamed(\"_c6\", \"review_count\")\n    .withColumnRenamed(\"_c7\", \"quantity_sold\")"
    },
    {
      "cell_type": "code",
      "execution_count": 6,
      "metadata": {
        "autoscroll": "auto"
      },
      "outputs": [],
      "source": "new_filedata.show(3)"
    },
    {
      "cell_type": "code",
      "execution_count": 7,
      "metadata": {
        "autoscroll": "auto"
      },
      "outputs": [],
      "source": "new_filedata.registerTempTable(\"datatable\")"
    },
    {
      "cell_type": "code",
      "execution_count": 8,
      "metadata": {
        "autoscroll": "auto"
      },
      "outputs": [],
      "source": "val productdata \u003d spark.sql(\"select * from datatable where discount !\u003d \u0027discount\u0027\")"
    },
    {
      "cell_type": "code",
      "execution_count": 9,
      "metadata": {
        "autoscroll": "auto"
      },
      "outputs": [],
      "source": "productdata.show(3)"
    },
    {
      "cell_type": "code",
      "execution_count": 10,
      "metadata": {
        "autoscroll": "auto"
      },
      "outputs": [],
      "source": "productdata.dtypes.foreach(println)"
    },
    {
      "cell_type": "code",
      "execution_count": 11,
      "metadata": {
        "autoscroll": "auto"
      },
      "outputs": [],
      "source": "val pdata \u003d productdata.withColumn(\"discount\", col(\"discount\").cast(\"int\"))\n            .withColumn(\"discount_rate\", col(\"discount_rate\").cast(\"float\"))\n            .withColumn(\"original_price\", col(\"original_price\").cast(\"int\"))\n            .withColumn(\"price\", col(\"price\").cast(\"int\"))\n            .withColumn(\"rating_average\", col(\"rating_average\").cast(\"float\"))\n            .withColumn(\"review_count\", col(\"review_count\").cast(\"int\"))\n            .withColumn(\"quantity_sold\", col(\"quantity_sold\").cast(\"int\"))"
    },
    {
      "cell_type": "code",
      "execution_count": 12,
      "metadata": {
        "autoscroll": "auto"
      },
      "outputs": [],
      "source": "pdata.dtypes.foreach(println)"
    },
    {
      "cell_type": "code",
      "execution_count": 13,
      "metadata": {
        "autoscroll": "auto"
      },
      "outputs": [],
      "source": "pdata.registerTempTable(\"data_table\")"
    },
    {
      "cell_type": "code",
      "execution_count": 14,
      "metadata": {
        "autoscroll": "auto"
      },
      "outputs": [],
      "source": "%sql\nselect count(*) as discount_count, discount_rate\nfrom data_table\ngroup by discount_rate\norder by discount_rate asc"
    },
    {
      "cell_type": "code",
      "execution_count": 15,
      "metadata": {
        "autoscroll": "auto"
      },
      "outputs": [],
      "source": "%sql\nselect count(*) as price_count, price\nfrom data_table\ngroup by price"
    },
    {
      "cell_type": "code",
      "execution_count": 16,
      "metadata": {
        "autoscroll": "auto"
      },
      "outputs": [],
      "source": "%sql\nselect count(*) as rating_count, rating_average\nfrom data_table\ngroup by rating_average"
    },
    {
      "cell_type": "code",
      "execution_count": 17,
      "metadata": {
        "autoscroll": "auto"
      },
      "outputs": [],
      "source": "%sql\nselect count(*) as rating_count, rating_average\nfrom\n(\n    select * from data_table \n    where rating_average \u003c\u003d 5\n)\ngroup by rating_average\norder by rating_average"
    },
    {
      "cell_type": "code",
      "execution_count": 18,
      "metadata": {
        "autoscroll": "auto"
      },
      "outputs": [],
      "source": "%sql\nselect * from datatable \nwhere review_count \u003d\u003d \n(\n    select max(int(review_count)) from datatable\n    where review_count !\u003d \"null\"\n    and review_count !\u003d \"review_count\"\n    and not (review_count like \"va%\")\n)"
    },
    {
      "cell_type": "code",
      "execution_count": 19,
      "metadata": {
        "autoscroll": "auto"
      },
      "outputs": [],
      "source": "%sql select * from datatable\norder by int(quantity_sold) desc\nlimit 10"
    },
    {
      "cell_type": "code",
      "execution_count": 20,
      "metadata": {},
      "outputs": [],
      "source": "%%sql\n"
    }
  ]
}